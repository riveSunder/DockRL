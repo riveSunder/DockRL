{
 "cells": [
  {
   "cell_type": "code",
   "execution_count": null,
   "metadata": {},
   "outputs": [],
   "source": [
    "import numpy as np\n",
    "import matplotlib.pyplot as plt\n"
   ]
  },
  {
   "cell_type": "code",
   "execution_count": null,
   "metadata": {},
   "outputs": [],
   "source": [
    "temp = np.load(\"./logs/exp_log1600272149.npy\", allow_pickle=True)"
   ]
  },
  {
   "cell_type": "code",
   "execution_count": null,
   "metadata": {},
   "outputs": [],
   "source": [
    "temp.reshape(1)[0].keys()"
   ]
  },
  {
   "cell_type": "code",
   "execution_count": null,
   "metadata": {},
   "outputs": [],
   "source": [
    "temp = temp.reshape(1)[0]\n"
   ]
  },
  {
   "cell_type": "code",
   "execution_count": null,
   "metadata": {},
   "outputs": [],
   "source": [
    "my_max = [2 - elem/5 for elem in temp[\"max_fitness\"]]\n",
    "\n",
    "plt.figure()\n",
    "plt.plot(my_max)\n",
    "plt.show()"
   ]
  },
  {
   "cell_type": "code",
   "execution_count": null,
   "metadata": {},
   "outputs": [],
   "source": [
    "plt.figure()\n",
    "plt.plot(temp[\"total_env_interacts\"], temp[\"max_fitness\"])\n",
    "plt.plot(temp[\"total_env_interacts\"], temp[\"mean_fitness\"])\n",
    "plt.fill_between(temp[\"total_env_interacts\"], \\\n",
    "                 [elem1 - elem2 for elem1, elem2 in zip(temp[\"mean_fitness\"], temp[\"sd_fitness\"])],\\\n",
    "                 [elem1 + elem2 for elem1, elem2 in zip(temp[\"mean_fitness\"], temp[\"sd_fitness\"])])\n",
    "\n",
    "plt.plot(temp[\"total_env_interacts\"], [2 - elem/5 temp[\"max_fitness\"])\n",
    "                 \n",
    "plt.show()"
   ]
  },
  {
   "cell_type": "code",
   "execution_count": null,
   "metadata": {},
   "outputs": [],
   "source": []
  }
 ],
 "metadata": {
  "kernelspec": {
   "display_name": "Python 3",
   "language": "python",
   "name": "python3"
  },
  "language_info": {
   "codemirror_mode": {
    "name": "ipython",
    "version": 3
   },
   "file_extension": ".py",
   "mimetype": "text/x-python",
   "name": "python",
   "nbconvert_exporter": "python",
   "pygments_lexer": "ipython3",
   "version": "3.6.9"
  }
 },
 "nbformat": 4,
 "nbformat_minor": 4
}
