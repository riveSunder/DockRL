{
 "cells": [
  {
   "cell_type": "code",
   "execution_count": null,
   "metadata": {},
   "outputs": [],
   "source": [
    "import numpy as np\n",
    "import matplotlib.pyplot as plt\n"
   ]
  },
  {
   "cell_type": "code",
   "execution_count": null,
   "metadata": {},
   "outputs": [],
   "source": [
    "temp = np.load(\"../logs/exp_log1602530479.npy\", allow_pickle=True)"
   ]
  },
  {
   "cell_type": "code",
   "execution_count": null,
   "metadata": {},
   "outputs": [],
   "source": [
    "temp = temp.reshape(1)[0]\n",
    "\n",
    "print(temp.keys())"
   ]
  },
  {
   "cell_type": "code",
   "execution_count": null,
   "metadata": {},
   "outputs": [],
   "source": [
    "temp_nn = np.load(\"../logs/exp_log1600368726.npy\", allow_pickle=True)\n",
    "temp_nn = temp_nn.reshape(1)[0]\n",
    "\n",
    "temp_nn.keys()"
   ]
  },
  {
   "cell_type": "code",
   "execution_count": null,
   "metadata": {},
   "outputs": [],
   "source": [
    "my_cmap = plt.get_cmap(\"plasma\", lut=128)\n"
   ]
  },
  {
   "cell_type": "code",
   "execution_count": null,
   "metadata": {},
   "outputs": [],
   "source": [
    "temp_direct = np.load(\"../logs/exp_log1602609130.npy\", allow_pickle=True)\n",
    "temp_direct = temp_direct.reshape(1)[0]\n",
    "\n",
    "temp_direct.keys()"
   ]
  },
  {
   "cell_type": "code",
   "execution_count": null,
   "metadata": {},
   "outputs": [],
   "source": [
    "my_cmap(10)"
   ]
  },
  {
   "cell_type": "code",
   "execution_count": null,
   "metadata": {},
   "outputs": [],
   "source": [
    "np.min(temp_nn[\"rmsd_min\"])\n",
    "\n",
    "default_rmsd = [6.499 for elem in temp_direct[\"max_fitness\"]] \n",
    "esben_rmsd = [4.625 for elem in temp_direct[\"max_fitness\"]]\n",
    "\n",
    "plt.figure(figsize=(10,5))\n",
    "\n",
    "plt.plot(temp_nn[\"total_env_interacts\"][0:200], \\\n",
    "         temp_nn[\"rmsd_min\"][0:200], lw=3, color=my_cmap(10),\\\n",
    "        label=\"NN solution\")\n",
    "\n",
    "plt.plot(temp_direct[\"total_env_interacts\"], temp_direct[\"rmsd_min\"],\\\n",
    "         lw=3, color=my_cmap(50),\\\n",
    "        label=\"direct CMA-ES optimization solution\")\n",
    "         \n",
    "plt.plot([-100,3500], default_rmsd[0:2],\"--\", color=[.5,0,0], label=\"Default scoring function RMSD\")\n",
    "plt.plot([-100, 3500], esben_rmsd[0:2],\"--\", color=[.1,0.15,0], label=\"Esben et al. scoring function RMSD\")\n",
    "plt.legend(fontsize=14)\n",
    "#plt.axis([-50,3500, 0, 8])\n",
    "\n",
    "plt.xlabel(\"total env. interactions\", fontsize=20)\n",
    "plt.ylabel(\"Root Mean Square Deviation\", fontsize=20)\n",
    "plt.title(\"Docking RMSD (Lower is Better)\", fontsize=28)\n",
    "plt.savefig(\"../assets/signs_of_life.png\")\n",
    "plt.show()"
   ]
  },
  {
   "cell_type": "code",
   "execution_count": null,
   "metadata": {},
   "outputs": [],
   "source": [
    "np.min(temp_direct[\"rmsd_min\"])"
   ]
  },
  {
   "cell_type": "code",
   "execution_count": null,
   "metadata": {},
   "outputs": [],
   "source": [
    "default_rmsd = [6.499 for elem in temp_direct[\"max_fitness\"]] \n",
    "esben_rmsd = [4.625 for elem in temp_direct[\"max_fitness\"]]\n",
    "\n",
    "plt.figure(figsize=(10,10))\n",
    "plt.plot(temp_direct[\"total_env_interacts\"], temp_direct[\"rmsd_min\"])\n",
    "plt.plot(temp_direct[\"total_env_interacts\"], default_rmsdd)\n",
    "plt.plot(temp_direct[\"total_env_interacts\"], esben_rmsd)\n",
    "#plt.axis([0,9000, 0, 1.5])\n",
    "plt.show()"
   ]
  },
  {
   "cell_type": "code",
   "execution_count": null,
   "metadata": {},
   "outputs": [],
   "source": [
    "my_max = [2 - (elem-0.34)/4 for elem in temp[\"max_fitness\"]]\n",
    "\n",
    "default_rmsd = [0.34193939 for elem in temp[\"max_fitness\"]] \n",
    "esben_rmsd = [0.23721212 for elem in temp[\"max_fitness\"]]\n",
    "\n",
    "plt.figure(figsize=(10,10))\n",
    "plt.plot(temp[\"total_env_interacts\"], my_max)\n",
    "plt.plot(temp[\"total_env_interacts\"], default_rmsd)\n",
    "plt.plot(temp[\"total_env_interacts\"], esben_rmsd)\n",
    "plt.axis([0,9000, 0, 1.5])\n",
    "plt.show()"
   ]
  },
  {
   "cell_type": "code",
   "execution_count": null,
   "metadata": {},
   "outputs": [],
   "source": [
    "plt.figure(figsize=(12,6))\n",
    "plt.plot(temp[\"total_env_interacts\"], temp[\"max_fitness\"])\n",
    "plt.plot(temp[\"total_env_interacts\"], temp[\"mean_fitness\"])\n",
    "plt.fill_between(temp[\"total_env_interacts\"], \\\n",
    "                 [elem1 - elem2 for elem1, elem2 in zip(temp[\"mean_fitness\"], temp[\"sd_fitness\"])],\\\n",
    "                 [elem1 + elem2 for elem1, elem2 in zip(temp[\"mean_fitness\"], temp[\"sd_fitness\"])])\n",
    "\n",
    "plt.plot(temp[\"total_env_interacts\"], temp[\"max_fitness\"])\n",
    "                 \n",
    "plt.show()"
   ]
  },
  {
   "cell_type": "code",
   "execution_count": null,
   "metadata": {},
   "outputs": [],
   "source": []
  }
 ],
 "metadata": {
  "kernelspec": {
   "display_name": "Python 3",
   "language": "python",
   "name": "python3"
  },
  "language_info": {
   "codemirror_mode": {
    "name": "ipython",
    "version": 3
   },
   "file_extension": ".py",
   "mimetype": "text/x-python",
   "name": "python",
   "nbconvert_exporter": "python",
   "pygments_lexer": "ipython3",
   "version": "3.6.9"
  }
 },
 "nbformat": 4,
 "nbformat_minor": 4
}
